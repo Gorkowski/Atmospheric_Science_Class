{
 "cells": [
  {
   "cell_type": "markdown",
   "metadata": {},
   "source": [
    "# Cloud Processes\n",
    "\n",
    "Wallace and Hobbs 6.2\n",
    "\n",
    "\n",
    "![cloud_processes](WH-6-59_cloud_process.png)\n"
   ]
  },
  {
   "cell_type": "markdown",
   "metadata": {},
   "source": [
    "# Electrification and Lightning \n",
    "\n",
    "Wallace and Hobbs 6.2\n",
    "\n",
    "All clouds are electrified to some degree. However, in vigorous convective clouds sufficient electrical charges are separated to produce electric fields that exceed the dielectric breakdown of cloudy air (∼1 MV m−1), resulting in an initial intracloud (i.e., between two points in the same cloud) lightning discharge.\n",
    "\n",
    "The distribution of charges in thunderstorms has been investigated with special radiosondes (called altielectrographs), by measuring the changes in the electric field at the ground that accompany lightning flashes, and with instrumented aircraft.\n",
    "\n",
    "The magnitudes of the lower negative charge and the upper positive charge are ∼10–100 coulombs (hereafter symbol “C”), or a few nC m−3.\n",
    "\n",
    "![Charge_zone](WH_6-52_chargezone.png)\n",
    "\n",
    "\n",
    "The corresponding positive charge is imparted to cloud particles (small ice) as they rebound from the falling graupel, and these small particles are then carried by updrafts to the upper regions of the cloud. The exact conditions and mechanism by which a graupel might be charged negatively, and smaller cloud particles charged positively, have been a matter of debate for some hundred years. Many potentially promising mechanisms have been proposed but subsequently found to be unable to explain the observed rate of charge generation in thunderstorms or, for other reasons, found to be untenable."
   ]
  },
  {
   "cell_type": "markdown",
   "metadata": {},
   "source": [
    "# The Induction Proposal\n",
    "\n",
    "In the inductive process an existing (initially fair weather) field induces charges in precipitation particles (in the same way charges were induced on a conducting sphere in a uniform field).\n",
    "\n",
    "![Induction](inductive_process_01.jpg)\n",
    "\n",
    "There are a variety of types of particles that can collide.  When two water droplets collide, they will often stick together.  If they make just a glancing collision, there won't be any charge neutralization because there isn't any charge induced at the charge's equators.  Thus a collision between two water droplets will not separate charge.\n",
    "\n",
    "Ice particle - ice particle collisions don't neutralize much charge because the particles don't remain in contact for very long and charge doesn't flow as readily through ice as it does through water.\n"
   ]
  },
  {
   "cell_type": "markdown",
   "metadata": {},
   "source": [
    "# Electrosphere\n",
    "\n",
    "![electrosphere](WH-6-55_electrosphere.png)"
   ]
  },
  {
   "cell_type": "markdown",
   "metadata": {},
   "source": [
    "# Non-inductive process, also called the Reynolds, Brook, Gourley process\n",
    "[University of Arizona Lecture](http://www.atmo.arizona.edu/students/courselinks/spring13/atmo589/ATMO489_online/lecture_11/lect11_cloud_electrification.html)\n",
    "\n",
    "Basically graupel collides with a snow crystal, in the presence of supercooled water droplets, and then depending on the environmental temperature, the graupel ends up with negative or positive charge and the ice crystal ends up with the opposite polarity.  \n",
    "\n",
    "At temperatures colder than about -15 C the snow crystal ends up with positive charge and the graupel is negative.  The different sizes and fall velocities of the two types of particles means they will tend to separate after the collision.  The negatively charged graupel tends to accumulate in the middle of the cloud and the snow crystal is carried up to higher parts of the cloud.  \n",
    "\n",
    "At temperatures warmer than about -15 C the polarities reverse.  We will see that this charge reversal temperature can vary depending on the cloud liquid water content.  \n",
    "\n",
    "The letters A, B, and C show how this process can account for the three main charge centers in a thunderstorm (A & C are the upper and lower positive charge centers, respectively; B is the main negative charge center)\n",
    "\n",
    "![rbg_process](rbg_process_01.jpg)\n",
    "\n",
    "<br />\n",
    "<br />\n",
    "\n",
    "The difference between collection of charges as the graupel falls, is proposed to be due to mass transferer rates (collisions with smaller water droplets)\n",
    "\n",
    "![mass_transfer](mass_transfer.jpg)\n",
    "\n",
    "The two colliding particles in the non-inductive process are each thought to be surrounded by a quasi liquid layer.  The particle that is growing faster will have a thicker quasi liquid layer and will transfer mass to the other particle at the time of the collision.  The particle that gains mass ends up with negative charge.\n"
   ]
  },
  {
   "cell_type": "markdown",
   "metadata": {},
   "source": [
    "# Charge Rate of a falling graupel particle\n",
    "\n",
    "Wallace and Hobbs 6.6\n",
    "\n",
    "\n",
    "Assume a falling graupel particle is collecting charge $q$ via collisions $J_{grauple,CCN}$ as it falls. \n",
    "\n",
    "$$ \\frac{dQ}{dt} = J_{grauple,CCN} ~q $$\n",
    "\n",
    "Assuming the graupel particle cross-section is large such that all cloud droplets in its path are collided.\n",
    "\n",
    "$$ q = 16 \\times 10^{-15} C $$\n",
    "$$ q = 16 fC $$\n",
    "\n",
    "An electron charge is:\n",
    "$$ -1e = 1.6 \\times 10^{-19}$$\n",
    "\n"
   ]
  },
  {
   "cell_type": "markdown",
   "metadata": {},
   "source": [
    "## Wallace and Hobbs 6.6. charge process discussion\n",
    "\n",
    "Laboratory experiments show that electric charge is separated when ice particles collide and rebound. The magnitude of the charge is typically about 10 fC per collision\n",
    "sufficient to explain the rate of charge generation in thunderstorms. The sign of the charge received by the graupel depends on temperature, the liquid water content of the cloud, and the relative rates of growth from the vapor phase of the graupel and the ice crystals. \n",
    "\n",
    "If the graupel grows more slowly by vapor deposition than the ice crystals, the graupel receives negative charge and the ice crystals receive the corresponding positive charge. Because the latent heat released by the freezing of supercooled droplets on a graupel as it falls through a cloud will raise the surface temperature of the graupel above ambient temperatures, the rate of growth of the graupel by vapor deposition will be less than that of ice crystals in the cloud. \n",
    "\n",
    "Consequently, when an ice crystal rebounds from a graupel, the graupel should receive a negative charge and the ice crystal a positive charge, as required to explain the main distribution of charges in a thunderstorm.\n",
    "\n",
    "The charge transfer appears to be due to the fact that positive ions move through ice much faster than negative ions. As new ice surface is created by vapor deposition, the positive ions migrate rapidly into the interior of the ice, leaving the surface negatively charged. \n",
    "\n",
    "During a collision material from each of the particles is mixed, but negative charge is transferred to the particle with the slower growth rate.\n",
    "\n",
    "In some thunderstorms, a relatively weak positive charge is observed just below the main charging zone. This may be associated with the charging of solid precipitation during melting or to mixed-phase processes."
   ]
  },
  {
   "cell_type": "markdown",
   "metadata": {},
   "source": [
    "# Charge levels seem to be consistent\n",
    "\n",
    "![charge_levels](NM_FL_Japan_clouds.jpg)"
   ]
  },
  {
   "cell_type": "markdown",
   "metadata": {},
   "source": [
    "# Strike Process\n",
    "\n",
    "![strike_process](WH-6-53_strike.png)"
   ]
  },
  {
   "cell_type": "code",
   "execution_count": null,
   "metadata": {},
   "outputs": [],
   "source": []
  }
 ],
 "metadata": {
  "kernelspec": {
   "display_name": "Python 3.7.9 ('AtmClass')",
   "language": "python",
   "name": "python3"
  },
  "language_info": {
   "name": "python",
   "version": "3.7.9"
  },
  "orig_nbformat": 4,
  "vscode": {
   "interpreter": {
    "hash": "e8f38c53aa77bb8c793f5544faab6a66e00231b60e1151314427e6f33fdcb4d3"
   }
  }
 },
 "nbformat": 4,
 "nbformat_minor": 2
}
