{
 "cells": [
  {
   "cell_type": "markdown",
   "metadata": {},
   "source": [
    "# Cloud droplets and water activity\n",
    "\n",
    "\n",
    "\n",
    "## Henry's Law (S\\&P 7.2)\n",
    "Activity of a substance can be expressed through Henry's Law, which states that the activity of a gas in a liquid is proportional to the partial pressure of the gas in equilibrium with the liquid. The proportionality constant is called the Henry's constant, and is a characteristic of the gas-liquid pair. The Henry's constant is a measure of the solubility of the gas in the liquid. \n",
    "\n",
    "$$ [liquid] = H [gas] $$\n",
    "\n",
    "where $[liquid]$ is the concentration of the gas in the liquid, $H$ is the Henry's constant, and $[gas]$ is the partial pressure of the gas in equilibrium with the liquid.\n",
    "\n",
    "You may have seen this approach in a Civil and Envriomental or introductory chemistry course.\n",
    "\n",
    "This approach fails when the soluite is at high concentrations, so it usually doesn't work for aerosol particales. \n",
    "\n",
    "## Activity Coefficents (S\\&P 10.1.4)\n",
    "\n",
    "In chemical thermodynamics, activity (symbol a) is a measure of the \"effective concentration\" of a species in a mixture, in the sense that the species' chemical potential depends on the activity of a real solution in the same way that it would depend on concentration for an ideal solution. The term \"activity\" in this sense was coined by the American chemist Gilbert N. Lewis in 1907.\n",
    "\n",
    "By convention, activity is treated as a dimensionless quantity, although its value depends on customary choices of standard state for the species. The activity of pure substances in condensed phases (solid or liquids) is normally taken as unity (the number 1). Activity depends on temperature, pressure and composition of the mixture, among other things. For gases, the activity is the effective partial pressure, and is usually referred to as fugacity.\n",
    "\n",
    "The difference between activity and other measures of concentration arises because the interactions between different types of molecules in non-ideal gases or solutions are different from interactions between the same types of molecules. The activity of an ion is particularly influenced by its surroundings.\n",
    "wiki link: https://en.wikipedia.org/wiki/Thermodynamic_activity\n",
    "\n",
    "For a liquid mixture:\n",
    "$$ a_i = \\gamma_i x_i $$\n",
    "\n",
    "where $a_i$ is the activity of species $i$, $x_i$ is the mole fraction of species $i$, and $\\gamma_i$.  The activity coefficient $\\gamma_i$ is a dimensionless quantity that is a function of temperature, pressure, and composition.\n",
    "\n",
    "For a gas mixture:\n",
    "In most laboratory situations, the difference in behaviour between a real gas and an ideal gas is dependent only on the pressure and the temperature, not on the presence of any other gases. At a given temperature, the \"effective\" pressure of a gas $i$ is given by its fugacity $f_i$: this may be higher or lower than its mechanical pressure. By historical convention, fugacities have the dimension of pressure, so the dimensionless activity.\n",
    "\n",
    "$$ a_{i}={\\frac {f_{i}}{p^{\\ominus }}}=\\varphi _{i}y_{i}{\\frac {p}{p^{\\ominus }}} $$\n",
    "\n",
    "where $\\varphi$ is the dimensionless fugacity coefficient of the species, $y_i$ is its fraction in the gaseous mixture ($y = 1$ for a pure gas) and $p$ is the total pressure. The value $p^{\\ominus }$ is the standard pressure: it may be equal to 1 atm (101.325 kPa).\n",
    "\n",
    "For an ideal gas, where the $\\varphi$ is equal to 1, the activity is equal to the mole fraction. Which is the case for most of the gases in the atmosphere.\n",
    "\n",
    "$$ a_{i} \\approx y_{i}{\\frac {p}{p^{\\ominus }}} = \\frac {p_{water}}{p_{sat}} = 100~\\times~[Relative~Humidity]  $$\n",
    "\n",
    "\n",
    "## Equilibrium Vapor Pressure (S\\&P 10.1.5)\n",
    "\n",
    "When the gas-phase and liquid-phase are in thermodynamic equilibrium then the activity in each phase are equal.\n",
    "\n",
    "$$ a_{i, liquid} = a_{i, gas} $$\n",
    "\n",
    "So for aerosols this means:\n",
    "\n",
    "$$ \\gamma_i x_i = y_{i}{\\frac {p}{p^{\\ominus }}} $$\n",
    "\n",
    "And for water this would be:\n",
    "\n",
    "$$ \\gamma_{water} x_{water} = 100~\\times~[Relative~Humidity] $$"
   ]
  },
  {
   "cell_type": "markdown",
   "metadata": {},
   "source": [
    "## Activity Coefficent Models\n",
    "\n",
    "There are multiple activity coefficent models that can be used to calculate the activity coefficent of water in an aerosol. The most common are E-AIM, and AIOMFAC. We will work with AIOMFAC in this notebook as it is the most flexable. link https://aiomfac.lab.mcgill.ca/\n"
   ]
  },
  {
   "cell_type": "code",
   "execution_count": 104,
   "metadata": {},
   "outputs": [],
   "source": [
    "import numpy as np\n",
    "import pandas as pd\n",
    "import matplotlib.pyplot as plt\n",
    "plt.rcParams[\"figure.figsize\"] = (12,9)\n",
    "plt.rcParams[\"font.size\"] = (16)"
   ]
  },
  {
   "cell_type": "markdown",
   "metadata": {},
   "source": [
    "To get coefficents we need to define a compostion of the species, either by mass or mole fraction. We will use mass fraction for this example. \n",
    "Along with temperature."
   ]
  },
  {
   "cell_type": "code",
   "execution_count": 105,
   "metadata": {},
   "outputs": [
    {
     "name": "stdout",
     "output_type": "stream",
     "text": [
      "298.15 ,  1e-05\n",
      "298.15 ,  1.2648552168552958e-05\n",
      "298.15 ,  1.5998587196060572e-05\n",
      "298.15 ,  2.0235896477251556e-05\n",
      "298.15 ,  2.559547922699533e-05\n",
      "298.15 ,  3.237457542817647e-05\n",
      "298.15 ,  4.094915062380427e-05\n",
      "298.15 ,  5.1794746792312125e-05\n",
      "298.15 ,  6.55128556859551e-05\n",
      "298.15 ,  8.286427728546843e-05\n",
      "298.15 ,  0.00010481131341546853\n",
      "298.15 ,  0.00013257113655901095\n",
      "298.15 ,  0.00016768329368110083\n",
      "298.15 ,  0.00021209508879201905\n",
      "298.15 ,  0.0002682695795279727\n",
      "298.15 ,  0.000339322177189533\n",
      "298.15 ,  0.00042919342601287783\n",
      "298.15 ,  0.0005428675439323859\n",
      "298.15 ,  0.0006866488450042998\n",
      "298.15 ,  0.000868511373751353\n",
      "298.15 ,  0.0010985411419875584\n",
      "298.15 ,  0.0013894954943731374\n",
      "298.15 ,  0.001757510624854793\n",
      "298.15 ,  0.0022229964825261957\n",
      "298.15 ,  0.002811768697974231\n",
      "298.15 ,  0.0035564803062231283\n",
      "298.15 ,  0.004498432668969444\n",
      "298.15 ,  0.005689866029018299\n",
      "298.15 ,  0.0071968567300115215\n",
      "298.15 ,  0.009102981779915217\n",
      "298.15 ,  0.011513953993264481\n",
      "298.15 ,  0.014563484775012445\n",
      "298.15 ,  0.018420699693267165\n",
      "298.15 ,  0.023299518105153717\n",
      "298.15 ,  0.029470517025518096\n",
      "298.15 ,  0.037275937203149416\n",
      "298.15 ,  0.04714866363457394\n",
      "298.15 ,  0.05963623316594643\n",
      "298.15 ,  0.07543120063354623\n",
      "298.15 ,  0.09540954763499944\n",
      "298.15 ,  0.1206792640639329\n",
      "298.15 ,  0.15264179671752334\n",
      "298.15 ,  0.19306977288832497\n",
      "298.15 ,  0.244205309454865\n",
      "298.15 ,  0.30888435964774846\n",
      "298.15 ,  0.3906939937054621\n",
      "298.15 ,  0.49417133613238384\n",
      "298.15 ,  0.6250551925273976\n",
      "298.15 ,  0.7906043210907702\n",
      "298.15 ,  1.0\n"
     ]
    }
   ],
   "source": [
    "mass_fraction = np.logspace(-5,0,50)\n",
    "temperature = np.ones_like(mass_fraction)*(273.15 + 25)\n",
    "\n",
    "# combine the two arrays into a single matrix\n",
    "# first is temperature, second is mass fraction\n",
    "for i, t in enumerate(temperature):\n",
    "    print(t, ', ', mass_fraction[i])"
   ]
  },
  {
   "cell_type": "markdown",
   "metadata": {},
   "source": [
    "Paste that output to the AIOMFAC website and click \"Run Model\". This will give you the activity coefficent for all spcies in the mixture.\n",
    "\n",
    "Then save the data, and load it into the notebook. We'll just load the activity coefficent for water."
   ]
  },
  {
   "cell_type": "code",
   "execution_count": 106,
   "metadata": {},
   "outputs": [
    {
     "data": {
      "text/html": [
       "<div>\n",
       "<style scoped>\n",
       "    .dataframe tbody tr th:only-of-type {\n",
       "        vertical-align: middle;\n",
       "    }\n",
       "\n",
       "    .dataframe tbody tr th {\n",
       "        vertical-align: top;\n",
       "    }\n",
       "\n",
       "    .dataframe thead th {\n",
       "        text-align: right;\n",
       "    }\n",
       "</style>\n",
       "<table border=\"1\" class=\"dataframe\">\n",
       "  <thead>\n",
       "    <tr style=\"text-align: right;\">\n",
       "      <th></th>\n",
       "      <th>no.</th>\n",
       "      <th>T_[K]</th>\n",
       "      <th>RH_[%]</th>\n",
       "      <th>w(01)</th>\n",
       "      <th>x_i(01)</th>\n",
       "      <th>m_i(01)</th>\n",
       "      <th>a_coeff_x(01)</th>\n",
       "      <th>a_x(01)</th>\n",
       "      <th>flag</th>\n",
       "    </tr>\n",
       "  </thead>\n",
       "  <tbody>\n",
       "    <tr>\n",
       "      <th>0</th>\n",
       "      <td>1</td>\n",
       "      <td>298.15</td>\n",
       "      <td>100.00</td>\n",
       "      <td>0.999968</td>\n",
       "      <td>0.999980</td>\n",
       "      <td>55.5084</td>\n",
       "      <td>1.0</td>\n",
       "      <td>0.999980</td>\n",
       "      <td>0</td>\n",
       "    </tr>\n",
       "    <tr>\n",
       "      <th>1</th>\n",
       "      <td>2</td>\n",
       "      <td>298.15</td>\n",
       "      <td>100.00</td>\n",
       "      <td>0.999959</td>\n",
       "      <td>0.999975</td>\n",
       "      <td>55.5084</td>\n",
       "      <td>1.0</td>\n",
       "      <td>0.999975</td>\n",
       "      <td>0</td>\n",
       "    </tr>\n",
       "    <tr>\n",
       "      <th>2</th>\n",
       "      <td>3</td>\n",
       "      <td>298.15</td>\n",
       "      <td>100.00</td>\n",
       "      <td>0.999948</td>\n",
       "      <td>0.999968</td>\n",
       "      <td>55.5084</td>\n",
       "      <td>1.0</td>\n",
       "      <td>0.999968</td>\n",
       "      <td>0</td>\n",
       "    </tr>\n",
       "    <tr>\n",
       "      <th>3</th>\n",
       "      <td>4</td>\n",
       "      <td>298.15</td>\n",
       "      <td>100.00</td>\n",
       "      <td>0.999934</td>\n",
       "      <td>0.999960</td>\n",
       "      <td>55.5084</td>\n",
       "      <td>1.0</td>\n",
       "      <td>0.999960</td>\n",
       "      <td>0</td>\n",
       "    </tr>\n",
       "    <tr>\n",
       "      <th>4</th>\n",
       "      <td>5</td>\n",
       "      <td>298.15</td>\n",
       "      <td>99.99</td>\n",
       "      <td>0.999917</td>\n",
       "      <td>0.999949</td>\n",
       "      <td>55.5084</td>\n",
       "      <td>1.0</td>\n",
       "      <td>0.999950</td>\n",
       "      <td>0</td>\n",
       "    </tr>\n",
       "  </tbody>\n",
       "</table>\n",
       "</div>"
      ],
      "text/plain": [
       "   no.   T_[K]  RH_[%]     w(01)   x_i(01)  m_i(01)  a_coeff_x(01)   a_x(01)  \\\n",
       "0    1  298.15  100.00  0.999968  0.999980  55.5084            1.0  0.999980   \n",
       "1    2  298.15  100.00  0.999959  0.999975  55.5084            1.0  0.999975   \n",
       "2    3  298.15  100.00  0.999948  0.999968  55.5084            1.0  0.999968   \n",
       "3    4  298.15  100.00  0.999934  0.999960  55.5084            1.0  0.999960   \n",
       "4    5  298.15   99.99  0.999917  0.999949  55.5084            1.0  0.999950   \n",
       "\n",
       "   flag  \n",
       "0     0  \n",
       "1     0  \n",
       "2     0  \n",
       "3     0  \n",
       "4     0  "
      ]
     },
     "execution_count": 106,
     "metadata": {},
     "output_type": "execute_result"
    }
   ],
   "source": [
    "file_path = 'AIOMFAC_output_0291.txt'\n",
    "data_water = pd.read_csv(file_path, sep='\\s+', header=None, names=['no.','T_[K]','RH_[%]','w(01)','x_i(01)','m_i(01)','a_coeff_x(01)','a_x(01)','flag'], skiprows=101, nrows=50)\n",
    "# data = np.loadtxt(file_path, skiprows=103, delimiter='\\s+', max_rows=20)\n",
    "data_water.head()"
   ]
  },
  {
   "cell_type": "code",
   "execution_count": 107,
   "metadata": {},
   "outputs": [],
   "source": [
    "gamma_water = data_water['a_coeff_x(01)'].values\n",
    "a_water = data_water['a_x(01)'].values\n",
    "mole_fraction_water = data_water['x_i(01)'].values\n",
    "mass_fraction_water = data_water['w(01)'].values"
   ]
  },
  {
   "cell_type": "code",
   "execution_count": 108,
   "metadata": {},
   "outputs": [
    {
     "data": {
      "image/png": "[encoded data removed]",
      "text/plain": [
       "<Figure size 864x648 with 2 Axes>"
      ]
     },
     "metadata": {
      "needs_background": "light"
     },
     "output_type": "display_data"
    }
   ],
   "source": [
    "fig, ax = plt.subplots()\n",
    "ax.plot(mole_fraction_water, gamma_water, label='gamma')\n",
    "ax2=ax.twinx()\n",
    "ax2.plot(mole_fraction_water, a_water, label='water activity', color='red')\n",
    "ax2.plot(mole_fraction_water, mole_fraction_water, linestyle='--', color='black')\n",
    "ax.set_xlabel('mass fraction water')\n",
    "ax.set_ylabel('water activity coefficient')\n",
    "ax2.set_ylabel('water activity', color='red', )\n",
    "# ax.legend()\n",
    "ax2.legend()\n",
    "plt.show()"
   ]
  },
  {
   "cell_type": "markdown",
   "metadata": {},
   "source": [
    "# Kohler Curve\n",
    "Using this water activity we can calculate a kohler curve. The kohler curve is a plot of the water activity of a droplet as a function of the droplet radius. The kohler curve is a useful tool for understanding the growth of cloud droplets.\n",
    "\n",
    "To acount for the droplet curvature, we'll need the Kelvin equation. The Kelvin equation is a relationship between the surface tension of a liquid and the radius of a spherical droplet of that liquid. The Kelvin equation is given by:\n",
    "$$ \\ln {\\frac {p}{p_{\\rm {sat}}}}={\\frac {2\\sigma V_{\\text{m}}}{rRT}}$$\n",
    "\n",
    "where $p$ is the partial pressure of the gas in the droplet, $p_{sat}$ is the saturation pressure of the gas, $\\sigma$ is the surface tension of the liquid, $V_m$ is the molar volume of the gas, $r$ is the gas constant, and $T$ is the temperature. \n",
    "\n",
    "It is more accruate to use activity as, partial pressure assumes ideal gas behavior, which is not the case always. So for an aerosol, water activity is:\n",
    "$$ \\ln {\\frac {a_{water-vapor}}{a_{water-aerosol}}}={\\frac {2\\sigma V_{\\text{m}}}{rRT}}$$\n",
    "\n",
    "We'll define a Kelvin radius such that:\n",
    "$$ r_{Kelvin} = \\frac {2\\sigma V_{\\text{m}}}{RT} $$\n",
    "\n",
    "Then: \n",
    "$$ \\ln {\\frac {a_{water-vapor}}{a_{water-aerosol}}}= \\frac {r_{Kelvin}}{r_{wet}} $$\n"
   ]
  },
  {
   "cell_type": "markdown",
   "metadata": {},
   "source": [
    "We'll pull in some code from particula and define a few new functions."
   ]
  },
  {
   "cell_type": "code",
   "execution_count": 109,
   "metadata": {},
   "outputs": [],
   "source": [
    "from particula import u\n",
    "from particula.util.input_handling import in_temperature, in_density\n",
    "from particula.util.input_handling import in_handling, in_molecular_weight\n",
    "from particula.constants import GAS_CONSTANT"
   ]
  },
  {
   "cell_type": "code",
   "execution_count": 110,
   "metadata": {},
   "outputs": [],
   "source": [
    "\n",
    "def kelvin_radius(surface_tension, molecular_weight, density, temperature):\n",
    "    \"\"\" Kelvin radius (Neil's definition)\n",
    "        https://en.wikipedia.org/wiki/Kelvin_equation\n",
    "    \"\"\"\n",
    "\n",
    "    temperature = in_temperature(temperature).to_base_units()\n",
    "    molecular_weight = in_molecular_weight(molecular_weight).to_base_units()\n",
    "    density = in_density(density).to_base_units()\n",
    "    surface_tension = in_handling(surface_tension, u.N/u.m)\n",
    "\n",
    "    return 2 * surface_tension * molecular_weight / (\n",
    "        GAS_CONSTANT * temperature * density\n",
    "    )\n",
    "\n",
    "\n",
    "def h2o_kelvin_radius(temperature):\n",
    "    \"\"\" Kelvin radius for H2O \"\"\"\n",
    "\n",
    "    temperature = in_temperature(temperature)\n",
    "\n",
    "    return kelvin_radius(\n",
    "        surface_tension=0.072 * u.N/u.m,\n",
    "        molecular_weight=0.01815 * u.kg/u.mol,\n",
    "        density=1000 * u.kg/u.m**3,\n",
    "        temperature=temperature\n",
    "    )\n",
    "\n",
    "def mole_fraction_to_mass_fraction(mole_fraction1, mole_fraction2, molecular_weight1, molecular_weight2):\n",
    "    \"\"\" Convert mole fraction to volume fraction\n",
    "    \"\"\"\n",
    "    mass_fraction1 = mole_fraction1 * molecular_weight1 / (mole_fraction1 * molecular_weight1 + mole_fraction2 * molecular_weight2)\n",
    "    mass_fraction2 = 1 - mass_fraction1\n",
    "    return mass_fraction1, mass_fraction2\n",
    "\n",
    "def mass_fraction_to_volume_fraction(mass_fraction1, mass_fraction2, density1, density2):\n",
    "    \"\"\" Convert mass fraction to volume fraction\n",
    "    \"\"\"\n",
    "    volume_fraction1 = (mass_fraction1 / density1) / (mass_fraction1 / density1 + mass_fraction2 / density2)\n",
    "    volume_fraction2 = 1 - volume_fraction1\n",
    "    return volume_fraction1, volume_fraction2\n",
    "\n",
    "def volume_of_water_from_species_fraction(volume_fraction_species, volume_of_species):\n",
    "    \"\"\" Calculate volume of water in a mixture\n",
    "    \"\"\"\n",
    "    return (1 - volume_fraction_species) * volume_of_species/volume_fraction_species\n",
    "\n",
    "def volume_sphere(radius):\n",
    "    \"\"\" Calculate volume of sphere\n",
    "    \"\"\"\n",
    "    return 4/3 * np.pi * radius**3\n",
    "\n",
    "def radius_sphere(volume):\n",
    "    \"\"\" Calculate radius of sphere\n",
    "    \"\"\"\n",
    "    return (3*volume/(4*np.pi))**(1/3)\n"
   ]
  },
  {
   "cell_type": "code",
   "execution_count": 119,
   "metadata": {},
   "outputs": [],
   "source": [
    "dry_radius = 10\n",
    "volume_dry = volume_sphere(dry_radius)\n",
    "\n",
    "density_spcies_g_cm3 = 2.17 \n",
    "density_water_g_cm3 = 1.0\n",
    "\n",
    "volume_fraction_water, volume_fraction_species = mass_fraction_to_volume_fraction(mass_fraction_water, 1-mass_fraction_water, density_water_g_cm3, density_spcies_g_cm3 )\n",
    "\n",
    "volume_water = volume_of_water_from_species_fraction(volume_fraction_species, volume_dry)\n",
    "\n",
    "volume_total = volume_water + volume_dry\n",
    "\n",
    "radius_total = radius_sphere(volume_total)\n",
    "\n",
    "# Kelvin effect\n",
    "a_water_vapor = a_water * np.exp(h2o_kelvin_radius(300).to(u.nm).m/radius_total)\n"
   ]
  },
  {
   "cell_type": "code",
   "execution_count": 121,
   "metadata": {},
   "outputs": [
    {
     "data": {
      "image/png": "[encoded data removed]",
      "text/plain": [
       "<Figure size 864x648 with 1 Axes>"
      ]
     },
     "metadata": {
      "needs_background": "light"
     },
     "output_type": "display_data"
    }
   ],
   "source": [
    "fig, ax = plt.subplots()\n",
    "ax.plot(radius_total, a_water_vapor, label='sphere')\n",
    "ax.plot(radius_total, a_water, label='flat')\n",
    "ax.plot([0,np.max(radius_total)], [1,1], linestyle='--', color='black')\n",
    "ax.set_xlabel('radius [nm]')\n",
    "ax.set_ylabel('water activity (RH= 100x a_w)')\n",
    "ax.legend()\n",
    "ax.set_ylim(0.95, 1.05)\n",
    "plt.show()\n"
   ]
  },
  {
   "cell_type": "markdown",
   "metadata": {},
   "source": [
    "## Kappa the (hygroscopic parameter)\n",
    "\n",
    "The hygroscopic parameter $\\kappa$ is a measure of the hygroscopicity of a particle. It is defined as the ratio of the volume of water adsorbed to the volume of the particle. It trys to simplify the previous activity coefficent model into a single number."
   ]
  },
  {
   "cell_type": "code",
   "execution_count": 72,
   "metadata": {},
   "outputs": [
    {
     "data": {
      "text/plain": [
       "array([9.99538922e-01, 9.90028793e-01, 9.80305246e-01, 9.70360029e-01,\n",
       "       9.60186484e-01, 9.49775624e-01, 9.39120103e-01, 9.28210113e-01,\n",
       "       9.17037537e-01, 9.05591643e-01, 8.93862860e-01, 8.81841165e-01,\n",
       "       8.69514224e-01, 8.56871516e-01, 8.43899463e-01, 8.30586349e-01,\n",
       "       8.16917184e-01, 8.02878889e-01, 7.88454871e-01, 7.73630486e-01,\n",
       "       7.58387313e-01, 7.42708134e-01, 7.26574771e-01, 7.09965547e-01,\n",
       "       6.92860797e-01, 6.75236254e-01, 6.57069668e-01, 6.38333776e-01,\n",
       "       6.19003318e-01, 5.99047545e-01, 5.78436646e-01, 5.57138882e-01,\n",
       "       5.35117140e-01, 5.12336139e-01, 4.88753572e-01, 4.64328814e-01,\n",
       "       4.39013400e-01, 4.12760334e-01, 3.85513813e-01, 3.57219190e-01,\n",
       "       3.27811860e-01, 2.97226400e-01, 2.65392159e-01, 2.32227741e-01,\n",
       "       1.97651460e-01, 1.61567943e-01, 1.23878518e-01, 8.44727485e-02,\n",
       "       4.32310741e-02, 2.16997461e-05])"
      ]
     },
     "execution_count": 72,
     "metadata": {},
     "output_type": "execute_result"
    }
   ],
   "source": [
    "\n",
    "kappa = (1./a_w-1).*(V_w./V_dp_m);"
   ]
  },
  {
   "cell_type": "code",
   "execution_count": 67,
   "metadata": {},
   "outputs": [],
   "source": [
    "h2o_kelvin_nm = h2o_kelvin_radius(300).to(u.nm)\n",
    "dry_radius = 100\n",
    "wet_radius = np.linspace(dry_radius, 10000, 1000)\n",
    "\n"
   ]
  },
  {
   "cell_type": "markdown",
   "metadata": {},
   "source": []
  }
 ],
 "metadata": {
  "kernelspec": {
   "display_name": "Python 3.7.9 ('AtmClass')",
   "language": "python",
   "name": "python3"
  },
  "language_info": {
   "codemirror_mode": {
    "name": "ipython",
    "version": 3
   },
   "file_extension": ".py",
   "mimetype": "text/x-python",
   "name": "python",
   "nbconvert_exporter": "python",
   "pygments_lexer": "ipython3",
   "version": "3.7.9"
  },
  "orig_nbformat": 4,
  "vscode": {
   "interpreter": {
    "hash": "e8f38c53aa77bb8c793f5544faab6a66e00231b60e1151314427e6f33fdcb4d3"
   }
  }
 },
 "nbformat": 4,
 "nbformat_minor": 2
}
